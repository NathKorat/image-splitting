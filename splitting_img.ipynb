{
 "cells": [
  {
   "cell_type": "markdown",
   "metadata": {},
   "source": [
    "## Implement code to split image\n",
    "-f 4 meaning that we split image using 4 x 4."
   ]
  },
  {
   "cell_type": "code",
   "execution_count": 7,
   "metadata": {},
   "outputs": [
    {
     "name": "stdout",
     "output_type": "stream",
     "text": [
      "(4, 1300, 2400, 3)\n",
      "img2.jpg spliting.....\n",
      "img1.jpg spliting.....\n",
      "splitting complete with 32 images ready to generate....\n",
      "generating....1/32\n",
      "generating....2/32\n",
      "generating....3/32\n",
      "generating....4/32\n",
      "generating....5/32\n",
      "generating....6/32\n",
      "generating....7/32\n",
      "generating....8/32\n",
      "generating....9/32\n",
      "generating....10/32\n",
      "generating....11/32\n",
      "generating....12/32\n",
      "generating....13/32\n",
      "generating....14/32\n",
      "generating....15/32\n",
      "generating....16/32\n",
      "generating....17/32\n",
      "generating....18/32\n",
      "generating....19/32\n",
      "generating....20/32\n",
      "generating....21/32\n",
      "generating....22/32\n",
      "generating....23/32\n",
      "generating....24/32\n",
      "generating....25/32\n",
      "generating....26/32\n",
      "generating....27/32\n",
      "generating....28/32\n",
      "generating....29/32\n",
      "generating....30/32\n",
      "generating....31/32\n",
      "generating....32/32\n",
      "outputs are saved at splited.\n"
     ]
    }
   ],
   "source": [
    "!python3 main.py -p \"/home/nath/Desktop/image_test/\" -f 4 -o \"splited\""
   ]
  }
 ],
 "metadata": {
  "kernelspec": {
   "display_name": "Python 3.10.4 64-bit",
   "language": "python",
   "name": "python3"
  },
  "language_info": {
   "codemirror_mode": {
    "name": "ipython",
    "version": 3
   },
   "file_extension": ".py",
   "mimetype": "text/x-python",
   "name": "python",
   "nbconvert_exporter": "python",
   "pygments_lexer": "ipython3",
   "version": "3.10.4"
  },
  "orig_nbformat": 4,
  "vscode": {
   "interpreter": {
    "hash": "916dbcbb3f70747c44a77c7bcd40155683ae19c65e1c03b4aa3499c5328201f1"
   }
  }
 },
 "nbformat": 4,
 "nbformat_minor": 2
}
